{
  "cells": [
    {
      "cell_type": "code",
      "execution_count": null,
      "metadata": {
        "id": "gJTGeHgO27oE"
      },
      "outputs": [],
      "source": [
        "import pandas as pd\n",
        "import matplotlib.pyplot as plt\n",
        "import seaborn as sns\n",
        "import numpy as np\n",
        "from sklearn.linear_model import LinearRegression ,Ridge,Lasso\n",
        "from sklearn.model_selection import train_test_split\n",
        "from sklearn.metrics import r2_score , mean_squared_error\n",
        "from scipy import stats"
      ]
    },
    {
      "cell_type": "markdown",
      "metadata": {
        "id": "ohvMKddv27oH"
      },
      "source": [
        "# Assignment5\n"
      ]
    },
    {
      "cell_type": "markdown",
      "metadata": {
        "id": "fdbYEhxu27oJ"
      },
      "source": [
        "## Ground Cricket Chirps\n",
        "\n",
        "In _The Song of Insects_ (1948) by George W. Pierce, Pierce mechanically measured the frequency (the number of wing vibrations per second) of chirps (or pulses of sound) made by a striped ground cricket, at various ground temperatures.  Since crickets are ectotherms (cold-blooded), the rate of their physiological processes and their overall metabolism are influenced by temperature.  Consequently, there is reason to believe that temperature would have a profound effect on aspects of their behavior, such as chirp frequency.\n",
        "\n",
        "In general, it was found that crickets did not sing at temperatures colder than 60º F. or warmer than 100º F."
      ]
    },
    {
      "cell_type": "code",
      "execution_count": null,
      "metadata": {
        "id": "MgVSJq9_27oL",
        "colab": {
          "base_uri": "https://localhost:8080/",
          "height": 206
        },
        "outputId": "0a7f4dd2-319c-4392-864b-826771447608"
      },
      "outputs": [
        {
          "output_type": "execute_result",
          "data": {
            "text/plain": [
              "   Chirps/Second  Ground Temperature\n",
              "0           20.0                88.6\n",
              "1           16.0                71.6\n",
              "2           19.8                93.3\n",
              "3           18.4                84.3\n",
              "4           17.1                80.6"
            ],
            "text/html": [
              "\n",
              "  <div id=\"df-71269495-6209-487e-be4c-8bae97e797e3\">\n",
              "    <div class=\"colab-df-container\">\n",
              "      <div>\n",
              "<style scoped>\n",
              "    .dataframe tbody tr th:only-of-type {\n",
              "        vertical-align: middle;\n",
              "    }\n",
              "\n",
              "    .dataframe tbody tr th {\n",
              "        vertical-align: top;\n",
              "    }\n",
              "\n",
              "    .dataframe thead th {\n",
              "        text-align: right;\n",
              "    }\n",
              "</style>\n",
              "<table border=\"1\" class=\"dataframe\">\n",
              "  <thead>\n",
              "    <tr style=\"text-align: right;\">\n",
              "      <th></th>\n",
              "      <th>Chirps/Second</th>\n",
              "      <th>Ground Temperature</th>\n",
              "    </tr>\n",
              "  </thead>\n",
              "  <tbody>\n",
              "    <tr>\n",
              "      <th>0</th>\n",
              "      <td>20.0</td>\n",
              "      <td>88.6</td>\n",
              "    </tr>\n",
              "    <tr>\n",
              "      <th>1</th>\n",
              "      <td>16.0</td>\n",
              "      <td>71.6</td>\n",
              "    </tr>\n",
              "    <tr>\n",
              "      <th>2</th>\n",
              "      <td>19.8</td>\n",
              "      <td>93.3</td>\n",
              "    </tr>\n",
              "    <tr>\n",
              "      <th>3</th>\n",
              "      <td>18.4</td>\n",
              "      <td>84.3</td>\n",
              "    </tr>\n",
              "    <tr>\n",
              "      <th>4</th>\n",
              "      <td>17.1</td>\n",
              "      <td>80.6</td>\n",
              "    </tr>\n",
              "  </tbody>\n",
              "</table>\n",
              "</div>\n",
              "      <button class=\"colab-df-convert\" onclick=\"convertToInteractive('df-71269495-6209-487e-be4c-8bae97e797e3')\"\n",
              "              title=\"Convert this dataframe to an interactive table.\"\n",
              "              style=\"display:none;\">\n",
              "        \n",
              "  <svg xmlns=\"http://www.w3.org/2000/svg\" height=\"24px\"viewBox=\"0 0 24 24\"\n",
              "       width=\"24px\">\n",
              "    <path d=\"M0 0h24v24H0V0z\" fill=\"none\"/>\n",
              "    <path d=\"M18.56 5.44l.94 2.06.94-2.06 2.06-.94-2.06-.94-.94-2.06-.94 2.06-2.06.94zm-11 1L8.5 8.5l.94-2.06 2.06-.94-2.06-.94L8.5 2.5l-.94 2.06-2.06.94zm10 10l.94 2.06.94-2.06 2.06-.94-2.06-.94-.94-2.06-.94 2.06-2.06.94z\"/><path d=\"M17.41 7.96l-1.37-1.37c-.4-.4-.92-.59-1.43-.59-.52 0-1.04.2-1.43.59L10.3 9.45l-7.72 7.72c-.78.78-.78 2.05 0 2.83L4 21.41c.39.39.9.59 1.41.59.51 0 1.02-.2 1.41-.59l7.78-7.78 2.81-2.81c.8-.78.8-2.07 0-2.86zM5.41 20L4 18.59l7.72-7.72 1.47 1.35L5.41 20z\"/>\n",
              "  </svg>\n",
              "      </button>\n",
              "      \n",
              "  <style>\n",
              "    .colab-df-container {\n",
              "      display:flex;\n",
              "      flex-wrap:wrap;\n",
              "      gap: 12px;\n",
              "    }\n",
              "\n",
              "    .colab-df-convert {\n",
              "      background-color: #E8F0FE;\n",
              "      border: none;\n",
              "      border-radius: 50%;\n",
              "      cursor: pointer;\n",
              "      display: none;\n",
              "      fill: #1967D2;\n",
              "      height: 32px;\n",
              "      padding: 0 0 0 0;\n",
              "      width: 32px;\n",
              "    }\n",
              "\n",
              "    .colab-df-convert:hover {\n",
              "      background-color: #E2EBFA;\n",
              "      box-shadow: 0px 1px 2px rgba(60, 64, 67, 0.3), 0px 1px 3px 1px rgba(60, 64, 67, 0.15);\n",
              "      fill: #174EA6;\n",
              "    }\n",
              "\n",
              "    [theme=dark] .colab-df-convert {\n",
              "      background-color: #3B4455;\n",
              "      fill: #D2E3FC;\n",
              "    }\n",
              "\n",
              "    [theme=dark] .colab-df-convert:hover {\n",
              "      background-color: #434B5C;\n",
              "      box-shadow: 0px 1px 3px 1px rgba(0, 0, 0, 0.15);\n",
              "      filter: drop-shadow(0px 1px 2px rgba(0, 0, 0, 0.3));\n",
              "      fill: #FFFFFF;\n",
              "    }\n",
              "  </style>\n",
              "\n",
              "      <script>\n",
              "        const buttonEl =\n",
              "          document.querySelector('#df-71269495-6209-487e-be4c-8bae97e797e3 button.colab-df-convert');\n",
              "        buttonEl.style.display =\n",
              "          google.colab.kernel.accessAllowed ? 'block' : 'none';\n",
              "\n",
              "        async function convertToInteractive(key) {\n",
              "          const element = document.querySelector('#df-71269495-6209-487e-be4c-8bae97e797e3');\n",
              "          const dataTable =\n",
              "            await google.colab.kernel.invokeFunction('convertToInteractive',\n",
              "                                                     [key], {});\n",
              "          if (!dataTable) return;\n",
              "\n",
              "          const docLinkHtml = 'Like what you see? Visit the ' +\n",
              "            '<a target=\"_blank\" href=https://colab.research.google.com/notebooks/data_table.ipynb>data table notebook</a>'\n",
              "            + ' to learn more about interactive tables.';\n",
              "          element.innerHTML = '';\n",
              "          dataTable['output_type'] = 'display_data';\n",
              "          await google.colab.output.renderOutput(dataTable, element);\n",
              "          const docLink = document.createElement('div');\n",
              "          docLink.innerHTML = docLinkHtml;\n",
              "          element.appendChild(docLink);\n",
              "        }\n",
              "      </script>\n",
              "    </div>\n",
              "  </div>\n",
              "  "
            ]
          },
          "metadata": {},
          "execution_count": 3
        }
      ],
      "source": [
        "ground_cricket_data = {\"Chirps/Second\": [20.0, 16.0, 19.8, 18.4, 17.1, 15.5, 14.7,\n",
        "                                         15.7, 15.4, 16.3, 15.0, 17.2, 16.0, 17.0,\n",
        "                                         14.4],\n",
        "                       \"Ground Temperature\": [88.6, 71.6, 93.3, 84.3, 80.6, 75.2, 69.7,\n",
        "                                              71.6, 69.4, 83.3, 79.6, 82.6, 80.6, 83.5,\n",
        "                                              76.3]}\n",
        "df = pd.DataFrame(ground_cricket_data)\n",
        "df.head(5)"
      ]
    },
    {
      "cell_type": "markdown",
      "metadata": {
        "id": "8UE1qiMK27oL"
      },
      "source": [
        "### Tasks\n",
        "\n",
        "1. Find the linear regression equation for this data.\n",
        "2. Chart the original data and the equation on the chart.\n",
        "3. Find the equation's $R^2$ score (use the `.score` method) to determine whether the\n",
        "equation is a good fit for this data. (0.8 and greater is considered a strong correlation.)\n",
        "4. Extrapolate data:  If the ground temperature reached 95, then at what approximate rate would you expect the crickets to be chirping?\n",
        "5. Interpolate data:  With a listening device, you discovered that on a particular morning the crickets were chirping at a rate of 18 chirps per second.  What was the approximate ground temperature that morning? "
      ]
    },
    {
      "cell_type": "code",
      "source": [
        "#plotting the data to see if it has correlation between the variables.\n",
        "sns.scatterplot(data=df,x=\"Chirps/Second\",y=\"Ground Temperature\") #we can clearly see that the data follows a linear pattern."
      ],
      "metadata": {
        "colab": {
          "base_uri": "https://localhost:8080/",
          "height": 296
        },
        "id": "ZPgDBTuM8jkf",
        "outputId": "eadc1710-de91-41ec-84dc-30f41403d0a2"
      },
      "execution_count": null,
      "outputs": [
        {
          "output_type": "execute_result",
          "data": {
            "text/plain": [
              "<matplotlib.axes._subplots.AxesSubplot at 0x7f94ff7cca30>"
            ]
          },
          "metadata": {},
          "execution_count": 13
        },
        {
          "output_type": "display_data",
          "data": {
            "text/plain": [
              "<Figure size 432x288 with 1 Axes>"
            ],
            "image/png": "[encoded data removed]"
          },
          "metadata": {
            "needs_background": "light"
          }
        }
      ]
    },
    {
      "cell_type": "code",
      "source": [
        "#We can see that the temperature has an significant effect on the chirps of the birds. hence we are considering the temperature as independant variable."
      ],
      "metadata": {
        "id": "ExMOTEuYbnwn"
      },
      "execution_count": null,
      "outputs": []
    },
    {
      "cell_type": "code",
      "source": [
        "y=df['Chirps/Second']\n",
        "x=df[\"Ground Temperature\"]\n"
      ],
      "metadata": {
        "id": "llRu5v5LBPAm"
      },
      "execution_count": null,
      "outputs": []
    },
    {
      "cell_type": "code",
      "source": [
        "x_train,x_test,y_train,y_test = train_test_split(x,y,test_size=0.3,random_state=1)"
      ],
      "metadata": {
        "id": "9kxoJW6R_wOs"
      },
      "execution_count": null,
      "outputs": []
    },
    {
      "cell_type": "code",
      "source": [
        "slope,intercept,_,_,_=stats.linregress(x_train,y_train)\n",
        "def slopfunction(x):\n",
        "    return (slope*x)+intercept\n",
        "print(slope, intercept)"
      ],
      "metadata": {
        "colab": {
          "base_uri": "https://localhost:8080/"
        },
        "id": "1Y0gD8FtJx1a",
        "outputId": "d735dc6f-ec1a-4fd3-9b9c-b841ec9fcb40"
      },
      "execution_count": null,
      "outputs": [
        {
          "output_type": "stream",
          "name": "stdout",
          "text": [
            "0.19353629061482766 1.167731872024092\n"
          ]
        }
      ]
    },
    {
      "cell_type": "code",
      "source": [
        "predicted_ytr=list(map(slopfunction,x_train))\n",
        "predicted_yte=list(map(slopfunction,x_test))\n",
        "print(r2_score(y_train,predicted_ytr))\n",
        "print(r2_score(y_test,predicted_yte))"
      ],
      "metadata": {
        "colab": {
          "base_uri": "https://localhost:8080/"
        },
        "id": "diwnxBXLKfah",
        "outputId": "4fe1881d-7f56-48c0-dbf5-c6bfc40a9770"
      },
      "execution_count": null,
      "outputs": [
        {
          "output_type": "stream",
          "name": "stdout",
          "text": [
            "0.5795708401526579\n",
            "0.7986678171941258\n"
          ]
        }
      ]
    },
    {
      "cell_type": "code",
      "source": [
        "#r2 score almost reaches 0.798 which is good for the model and the model is not overfitted by comparing r2 for train and test dataset also we can observe from below graphs"
      ],
      "metadata": {
        "id": "HDsBOn97U4CI"
      },
      "execution_count": null,
      "outputs": []
    },
    {
      "cell_type": "code",
      "source": [
        "#The below split almost gave a r2 score for test dataset to 0.77 so we are saving the datasets incase of future use. The model shows significant results with test-train split\n",
        "best_splitx=x_train\n",
        "best_splity=y_train\n",
        "best_testsplitx=x_test\n",
        "best_testsplity=y_test\n",
        "print(best_splitx)\n",
        "print(best_splity)\n",
        "print(best_testsplitx)\n",
        "print(best_testsplity)"
      ],
      "metadata": {
        "colab": {
          "base_uri": "https://localhost:8080/"
        },
        "id": "3QUSL79aTVnr",
        "outputId": "49dc6943-5465-44e6-87d7-9b04bc1c07ed"
      },
      "execution_count": null,
      "outputs": [
        {
          "output_type": "stream",
          "name": "stdout",
          "text": [
            "4     80.6\n",
            "1     71.6\n",
            "13    83.5\n",
            "0     88.6\n",
            "14    76.3\n",
            "9     83.3\n",
            "8     69.4\n",
            "12    80.6\n",
            "11    82.6\n",
            "5     75.2\n",
            "Name: Ground Temperature, dtype: float64\n",
            "4     17.1\n",
            "1     16.0\n",
            "13    17.0\n",
            "0     20.0\n",
            "14    14.4\n",
            "9     16.3\n",
            "8     15.4\n",
            "12    16.0\n",
            "11    17.2\n",
            "5     15.5\n",
            "Name: Chirps/Second, dtype: float64\n",
            "3     84.3\n",
            "7     71.6\n",
            "6     69.7\n",
            "2     93.3\n",
            "10    79.6\n",
            "Name: Ground Temperature, dtype: float64\n",
            "3     18.4\n",
            "7     15.7\n",
            "6     14.7\n",
            "2     19.8\n",
            "10    15.0\n",
            "Name: Chirps/Second, dtype: float64\n"
          ]
        }
      ]
    },
    {
      "cell_type": "code",
      "source": [
        "plt.plot(x_train,predicted_ytr)\n",
        "plt.scatter(x_train,y_train)\n",
        "plt.ylabel('chirps/second')\n",
        "plt.xlabel('temperature')"
      ],
      "metadata": {
        "colab": {
          "base_uri": "https://localhost:8080/",
          "height": 296
        },
        "id": "LhNUUYjaUcoq",
        "outputId": "65a31c70-6e15-4993-dbd8-6148ff3d1b04"
      },
      "execution_count": null,
      "outputs": [
        {
          "output_type": "execute_result",
          "data": {
            "text/plain": [
              "Text(0.5, 0, 'temperature')"
            ]
          },
          "metadata": {},
          "execution_count": 62
        },
        {
          "output_type": "display_data",
          "data": {
            "text/plain": [
              "<Figure size 432x288 with 1 Axes>"
            ],
            "image/png": "[encoded data removed]"
          },
          "metadata": {
            "needs_background": "light"
          }
        }
      ]
    },
    {
      "cell_type": "code",
      "source": [
        "plt.plot(x_test,predicted_yte)\n",
        "plt.scatter(x_test,y_test)\n",
        "plt.ylabel('chirps/second')\n",
        "plt.xlabel('temperature')"
      ],
      "metadata": {
        "colab": {
          "base_uri": "https://localhost:8080/",
          "height": 298
        },
        "id": "vYYBISLFMMgt",
        "outputId": "4e00b2b3-3257-4425-d2ee-af393f41e675"
      },
      "execution_count": null,
      "outputs": [
        {
          "output_type": "execute_result",
          "data": {
            "text/plain": [
              "Text(0.5, 0, 'temperature')"
            ]
          },
          "metadata": {},
          "execution_count": 63
        },
        {
          "output_type": "display_data",
          "data": {
            "text/plain": [
              "<Figure size 432x288 with 1 Axes>"
            ],
            "image/png": "[encoded data removed]"
          },
          "metadata": {
            "needs_background": "light"
          }
        }
      ]
    },
    {
      "cell_type": "code",
      "source": [
        "#to Extrapolate data: If the ground temperature reached 95, then at what approximate rate would you expect the crickets to be chirping?\n",
        "#using the slope and intercept to find the x. \n",
        "chirps_at_95=slopfunction(95)\n",
        "print(\"when the temperature is 95 the chirps per second would be around {}\".format(chirps_at_95))\n",
        "temp_for_18chirps= (18-intercept)/slope\n",
        "print(\"When the temperature is {},no of chirps per second would be 18.\".format(temp_for_18chirps))"
      ],
      "metadata": {
        "colab": {
          "base_uri": "https://localhost:8080/"
        },
        "id": "YIYHgpGzU2LC",
        "outputId": "ee6c6dc5-3aa0-4777-8750-e8c780161e2f"
      },
      "execution_count": null,
      "outputs": [
        {
          "output_type": "stream",
          "name": "stdout",
          "text": [
            "when the temperature is 95 the chirps per second would be around 19.55367948043272\n",
            "When the temperature is 86.97215428952897,no of chirps per second would be 18.\n"
          ]
        }
      ]
    },
    {
      "cell_type": "markdown",
      "metadata": {
        "id": "3JoWq2tU27oM"
      },
      "source": [
        "# Assignment6"
      ]
    },
    {
      "cell_type": "markdown",
      "metadata": {
        "id": "p5h2hIRf27oN"
      },
      "source": [
        "## Brain vs. Body Weight\n",
        "\n",
        "In the file `brain_body.txt`, the average brain and body weight for a number of mammal species are recorded. Load this data into a Pandas data frame.\n",
        "\n",
        "### Tasks\n",
        "\n",
        "1. Find the linear regression equation for this data for brain weight to body weight.\n",
        "2. Chart the original data and the equation on the chart.\n",
        "3. Find the equation's $R^2$ score (use the `.score` method) to determine whether the\n",
        "equation is a good fit for this data. (0.8 and greater is considered a strong correlation.)"
      ]
    },
    {
      "cell_type": "code",
      "source": [
        "from google.colab import drive\n",
        "drive.mount('/content/drive')"
      ],
      "metadata": {
        "colab": {
          "base_uri": "https://localhost:8080/"
        },
        "id": "8qGVD7fPfeSE",
        "outputId": "25802819-7a5d-4ea8-b880-82b3997b93af"
      },
      "execution_count": null,
      "outputs": [
        {
          "output_type": "stream",
          "name": "stdout",
          "text": [
            "Mounted at /content/drive\n"
          ]
        }
      ]
    },
    {
      "cell_type": "code",
      "execution_count": null,
      "metadata": {
        "id": "p6BUCqhy27oN",
        "colab": {
          "base_uri": "https://localhost:8080/",
          "height": 206
        },
        "outputId": "6b1bb883-0df7-486a-9278-25b771ecc9be"
      },
      "outputs": [
        {
          "output_type": "execute_result",
          "data": {
            "text/plain": [
              "     Brain   Body\n",
              "0    3.385   44.5\n",
              "1    0.480   15.5\n",
              "2    1.350    8.1\n",
              "3  465.000  423.0\n",
              "4   36.330  119.5"
            ],
            "text/html": [
              "\n",
              "  <div id=\"df-30c0a570-09b6-4a1e-beb8-683a9671863b\">\n",
              "    <div class=\"colab-df-container\">\n",
              "      <div>\n",
              "<style scoped>\n",
              "    .dataframe tbody tr th:only-of-type {\n",
              "        vertical-align: middle;\n",
              "    }\n",
              "\n",
              "    .dataframe tbody tr th {\n",
              "        vertical-align: top;\n",
              "    }\n",
              "\n",
              "    .dataframe thead th {\n",
              "        text-align: right;\n",
              "    }\n",
              "</style>\n",
              "<table border=\"1\" class=\"dataframe\">\n",
              "  <thead>\n",
              "    <tr style=\"text-align: right;\">\n",
              "      <th></th>\n",
              "      <th>Brain</th>\n",
              "      <th>Body</th>\n",
              "    </tr>\n",
              "  </thead>\n",
              "  <tbody>\n",
              "    <tr>\n",
              "      <th>0</th>\n",
              "      <td>3.385</td>\n",
              "      <td>44.5</td>\n",
              "    </tr>\n",
              "    <tr>\n",
              "      <th>1</th>\n",
              "      <td>0.480</td>\n",
              "      <td>15.5</td>\n",
              "    </tr>\n",
              "    <tr>\n",
              "      <th>2</th>\n",
              "      <td>1.350</td>\n",
              "      <td>8.1</td>\n",
              "    </tr>\n",
              "    <tr>\n",
              "      <th>3</th>\n",
              "      <td>465.000</td>\n",
              "      <td>423.0</td>\n",
              "    </tr>\n",
              "    <tr>\n",
              "      <th>4</th>\n",
              "      <td>36.330</td>\n",
              "      <td>119.5</td>\n",
              "    </tr>\n",
              "  </tbody>\n",
              "</table>\n",
              "</div>\n",
              "      <button class=\"colab-df-convert\" onclick=\"convertToInteractive('df-30c0a570-09b6-4a1e-beb8-683a9671863b')\"\n",
              "              title=\"Convert this dataframe to an interactive table.\"\n",
              "              style=\"display:none;\">\n",
              "        \n",
              "  <svg xmlns=\"http://www.w3.org/2000/svg\" height=\"24px\"viewBox=\"0 0 24 24\"\n",
              "       width=\"24px\">\n",
              "    <path d=\"M0 0h24v24H0V0z\" fill=\"none\"/>\n",
              "    <path d=\"M18.56 5.44l.94 2.06.94-2.06 2.06-.94-2.06-.94-.94-2.06-.94 2.06-2.06.94zm-11 1L8.5 8.5l.94-2.06 2.06-.94-2.06-.94L8.5 2.5l-.94 2.06-2.06.94zm10 10l.94 2.06.94-2.06 2.06-.94-2.06-.94-.94-2.06-.94 2.06-2.06.94z\"/><path d=\"M17.41 7.96l-1.37-1.37c-.4-.4-.92-.59-1.43-.59-.52 0-1.04.2-1.43.59L10.3 9.45l-7.72 7.72c-.78.78-.78 2.05 0 2.83L4 21.41c.39.39.9.59 1.41.59.51 0 1.02-.2 1.41-.59l7.78-7.78 2.81-2.81c.8-.78.8-2.07 0-2.86zM5.41 20L4 18.59l7.72-7.72 1.47 1.35L5.41 20z\"/>\n",
              "  </svg>\n",
              "      </button>\n",
              "      \n",
              "  <style>\n",
              "    .colab-df-container {\n",
              "      display:flex;\n",
              "      flex-wrap:wrap;\n",
              "      gap: 12px;\n",
              "    }\n",
              "\n",
              "    .colab-df-convert {\n",
              "      background-color: #E8F0FE;\n",
              "      border: none;\n",
              "      border-radius: 50%;\n",
              "      cursor: pointer;\n",
              "      display: none;\n",
              "      fill: #1967D2;\n",
              "      height: 32px;\n",
              "      padding: 0 0 0 0;\n",
              "      width: 32px;\n",
              "    }\n",
              "\n",
              "    .colab-df-convert:hover {\n",
              "      background-color: #E2EBFA;\n",
              "      box-shadow: 0px 1px 2px rgba(60, 64, 67, 0.3), 0px 1px 3px 1px rgba(60, 64, 67, 0.15);\n",
              "      fill: #174EA6;\n",
              "    }\n",
              "\n",
              "    [theme=dark] .colab-df-convert {\n",
              "      background-color: #3B4455;\n",
              "      fill: #D2E3FC;\n",
              "    }\n",
              "\n",
              "    [theme=dark] .colab-df-convert:hover {\n",
              "      background-color: #434B5C;\n",
              "      box-shadow: 0px 1px 3px 1px rgba(0, 0, 0, 0.15);\n",
              "      filter: drop-shadow(0px 1px 2px rgba(0, 0, 0, 0.3));\n",
              "      fill: #FFFFFF;\n",
              "    }\n",
              "  </style>\n",
              "\n",
              "      <script>\n",
              "        const buttonEl =\n",
              "          document.querySelector('#df-30c0a570-09b6-4a1e-beb8-683a9671863b button.colab-df-convert');\n",
              "        buttonEl.style.display =\n",
              "          google.colab.kernel.accessAllowed ? 'block' : 'none';\n",
              "\n",
              "        async function convertToInteractive(key) {\n",
              "          const element = document.querySelector('#df-30c0a570-09b6-4a1e-beb8-683a9671863b');\n",
              "          const dataTable =\n",
              "            await google.colab.kernel.invokeFunction('convertToInteractive',\n",
              "                                                     [key], {});\n",
              "          if (!dataTable) return;\n",
              "\n",
              "          const docLinkHtml = 'Like what you see? Visit the ' +\n",
              "            '<a target=\"_blank\" href=https://colab.research.google.com/notebooks/data_table.ipynb>data table notebook</a>'\n",
              "            + ' to learn more about interactive tables.';\n",
              "          element.innerHTML = '';\n",
              "          dataTable['output_type'] = 'display_data';\n",
              "          await google.colab.output.renderOutput(dataTable, element);\n",
              "          const docLink = document.createElement('div');\n",
              "          docLink.innerHTML = docLinkHtml;\n",
              "          element.appendChild(docLink);\n",
              "        }\n",
              "      </script>\n",
              "    </div>\n",
              "  </div>\n",
              "  "
            ]
          },
          "metadata": {},
          "execution_count": 152
        }
      ],
      "source": [
        "df = pd.read_fwf(\"/content/drive/MyDrive/Guvi_collab/brain_body.txt\")\n",
        "df.head(5)"
      ]
    },
    {
      "cell_type": "code",
      "source": [
        "sns.scatterplot(data=df,x='Brain',y='Body')"
      ],
      "metadata": {
        "colab": {
          "base_uri": "https://localhost:8080/",
          "height": 296
        },
        "id": "-ZdzGyMFwNJT",
        "outputId": "072904f2-8504-4c27-e6c5-091df9a094c6"
      },
      "execution_count": null,
      "outputs": [
        {
          "output_type": "execute_result",
          "data": {
            "text/plain": [
              "<matplotlib.axes._subplots.AxesSubplot at 0x7fbfa07426d0>"
            ]
          },
          "metadata": {},
          "execution_count": 154
        },
        {
          "output_type": "display_data",
          "data": {
            "text/plain": [
              "<Figure size 432x288 with 1 Axes>"
            ],
            "image/png": "[encoded data removed]"
          },
          "metadata": {
            "needs_background": "light"
          }
        }
      ]
    },
    {
      "cell_type": "code",
      "source": [
        "sns.violinplot(data=df) # checking the outliers in our data."
      ],
      "metadata": {
        "colab": {
          "base_uri": "https://localhost:8080/",
          "height": 282
        },
        "id": "1Rlcl3zRsS12",
        "outputId": "920c51bc-651e-423a-93a2-4712d0a5affd"
      },
      "execution_count": null,
      "outputs": [
        {
          "output_type": "execute_result",
          "data": {
            "text/plain": [
              "<matplotlib.axes._subplots.AxesSubplot at 0x7fbfa06a29a0>"
            ]
          },
          "metadata": {},
          "execution_count": 155
        },
        {
          "output_type": "display_data",
          "data": {
            "text/plain": [
              "<Figure size 432x288 with 1 Axes>"
            ],
            "image/png": "[encoded data removed]"
          },
          "metadata": {
            "needs_background": "light"
          }
        }
      ]
    },
    {
      "cell_type": "markdown",
      "source": [
        "We can observe that there are some outliers in our data which affects the model while fitting. Hence as a pre-processing step we are clearing out the outliers. "
      ],
      "metadata": {
        "id": "M_ZBFWAFvXCb"
      }
    },
    {
      "cell_type": "code",
      "source": [
        "df=df.loc[df['Body']<=1000]\n",
        "x=df['Brain']\n",
        "y=df['Body']"
      ],
      "metadata": {
        "id": "MjdbrFdxjDQI"
      },
      "execution_count": null,
      "outputs": []
    },
    {
      "cell_type": "code",
      "source": [
        "x_train,x_test,y_train,y_test = train_test_split(x,y,test_size=0.2)"
      ],
      "metadata": {
        "id": "WZFMTXWWjIbE"
      },
      "execution_count": null,
      "outputs": []
    },
    {
      "cell_type": "code",
      "source": [
        "slope,intercept,_,_,_=stats.linregress(x_train,y_train)\n",
        "def slopfunction(x):\n",
        "    return (slope*x)+intercept\n",
        "print(slope, intercept)"
      ],
      "metadata": {
        "colab": {
          "base_uri": "https://localhost:8080/"
        },
        "id": "cEU_Sv9VnUyY",
        "outputId": "87f759db-1b70-4703-c31a-dbbafd7cd153"
      },
      "execution_count": null,
      "outputs": [
        {
          "output_type": "stream",
          "name": "stdout",
          "text": [
            "1.144694836699981 34.88724333511909\n"
          ]
        }
      ]
    },
    {
      "cell_type": "markdown",
      "source": [
        "The perfect r2 score was yielded when the m=1.144694836699981 and C=34.88724333511909\n",
        "\n",
        "\n"
      ],
      "metadata": {
        "id": "yp5zvwHPuiBV"
      }
    },
    {
      "cell_type": "code",
      "source": [
        "ytrain_pred=list(map(slopfunction,x_train))\n",
        "ytest_pred=list(map(slopfunction,x_test))\n",
        "print(r2_score(y_train,ytrain_pred))\n",
        "print(r2_score(y_test,ytest_pred))"
      ],
      "metadata": {
        "colab": {
          "base_uri": "https://localhost:8080/"
        },
        "id": "jjzltfnoncOO",
        "outputId": "29a17687-5b4a-4790-f20f-2e000bc16f15"
      },
      "execution_count": null,
      "outputs": [
        {
          "output_type": "stream",
          "name": "stdout",
          "text": [
            "0.7394598008503943\n",
            "0.8153722023323954\n"
          ]
        }
      ]
    },
    {
      "cell_type": "code",
      "source": [
        "best_splitx=x_train\n",
        "best_splity=y_train\n",
        "best_testsplitx=x_test\n",
        "best_testsplity=y_test\n",
        "print(best_splitx)\n",
        "print(best_splity)\n",
        "print(best_testsplitx)\n",
        "print(best_testsplity)"
      ],
      "metadata": {
        "colab": {
          "base_uri": "https://localhost:8080/"
        },
        "id": "vYu3HjIhu19t",
        "outputId": "deae3bc4-da3a-499e-f202-ebfa1a0883f1"
      },
      "execution_count": null,
      "outputs": [
        {
          "output_type": "stream",
          "name": "stdout",
          "text": [
            "33      3.500\n",
            "17      1.700\n",
            "19      0.023\n",
            "30      0.750\n",
            "42      2.500\n",
            "57    160.000\n",
            "47      0.550\n",
            "16      2.000\n",
            "8       4.190\n",
            "54      0.048\n",
            "53      0.122\n",
            "14      0.060\n",
            "4      36.330\n",
            "3     465.000\n",
            "13      0.005\n",
            "2       1.350\n",
            "43     55.500\n",
            "46     10.550\n",
            "52      0.075\n",
            "44    100.000\n",
            "50      4.288\n",
            "0       3.385\n",
            "28    207.000\n",
            "58      0.900\n",
            "1       0.480\n",
            "48     60.000\n",
            "10      0.101\n",
            "11      0.920\n",
            "5      27.660\n",
            "49      3.600\n",
            "60      0.104\n",
            "56      3.000\n",
            "22      0.785\n",
            "26      1.410\n",
            "37      0.120\n",
            "9       0.425\n",
            "23     10.000\n",
            "35     35.000\n",
            "61      4.235\n",
            "34      6.800\n",
            "59      1.620\n",
            "15      3.500\n",
            "40      1.400\n",
            "27    529.000\n",
            "38      0.023\n",
            "45     52.160\n",
            "36      4.050\n",
            "Name: Brain, dtype: float64\n",
            "33      3.90\n",
            "17      6.30\n",
            "19      0.30\n",
            "30     12.30\n",
            "42     12.10\n",
            "57    169.00\n",
            "47      2.40\n",
            "16     12.30\n",
            "8      58.00\n",
            "54      0.33\n",
            "53      3.00\n",
            "14      1.00\n",
            "4     119.50\n",
            "3     423.00\n",
            "13      0.14\n",
            "2       8.10\n",
            "43    175.00\n",
            "46    179.50\n",
            "52      1.20\n",
            "44    157.00\n",
            "50     39.20\n",
            "0      44.50\n",
            "28    406.00\n",
            "58      2.60\n",
            "1      15.50\n",
            "48     81.00\n",
            "10      4.00\n",
            "11      5.70\n",
            "5     115.00\n",
            "49     21.00\n",
            "60      2.50\n",
            "56     25.00\n",
            "22      3.50\n",
            "26     17.50\n",
            "37      1.00\n",
            "9       6.40\n",
            "23    115.00\n",
            "35     56.00\n",
            "61     50.40\n",
            "34    179.00\n",
            "59     11.40\n",
            "15     10.80\n",
            "40     12.50\n",
            "27    680.00\n",
            "38      0.40\n",
            "45    440.00\n",
            "36     17.00\n",
            "Name: Body, dtype: float64\n",
            "25      0.20\n",
            "55    192.00\n",
            "20    187.10\n",
            "29     85.00\n",
            "51      0.28\n",
            "21    521.00\n",
            "39      0.01\n",
            "24      3.30\n",
            "7       1.04\n",
            "6      14.83\n",
            "12      1.00\n",
            "41    250.00\n",
            "Name: Brain, dtype: float64\n",
            "25      5.00\n",
            "55    180.00\n",
            "20    419.00\n",
            "29    325.00\n",
            "51      1.90\n",
            "21    655.00\n",
            "39      0.25\n",
            "24     25.60\n",
            "7       5.50\n",
            "6      98.20\n",
            "12      6.60\n",
            "41    490.00\n",
            "Name: Body, dtype: float64\n"
          ]
        }
      ]
    },
    {
      "cell_type": "code",
      "source": [
        "plt.plot(x_train,ytrain_pred)\n",
        "plt.scatter(x_train,y_train)\n",
        "plt.ylabel('Body weight')\n",
        "plt.xlabel('Brain weight')"
      ],
      "metadata": {
        "colab": {
          "base_uri": "https://localhost:8080/",
          "height": 296
        },
        "id": "9HO0XT36rDuI",
        "outputId": "44938f09-d2ca-4547-b3d3-11f01cc9e5e0"
      },
      "execution_count": null,
      "outputs": [
        {
          "output_type": "execute_result",
          "data": {
            "text/plain": [
              "Text(0.5, 0, 'Brain weight')"
            ]
          },
          "metadata": {},
          "execution_count": 143
        },
        {
          "output_type": "display_data",
          "data": {
            "text/plain": [
              "<Figure size 432x288 with 1 Axes>"
            ],
            "image/png": "[encoded data removed]"
          },
          "metadata": {
            "needs_background": "light"
          }
        }
      ]
    },
    {
      "cell_type": "code",
      "source": [
        "plt.plot(x_test,ytest_pred)\n",
        "plt.scatter(x_test,y_test)\n",
        "plt.ylabel('body weight')\n",
        "plt.xlabel('Brain weight')"
      ],
      "metadata": {
        "colab": {
          "base_uri": "https://localhost:8080/",
          "height": 296
        },
        "id": "U_UvonMdrXh9",
        "outputId": "5b19210a-f705-4912-8a24-30a21d265048"
      },
      "execution_count": null,
      "outputs": [
        {
          "output_type": "execute_result",
          "data": {
            "text/plain": [
              "Text(0.5, 0, 'Brain weight')"
            ]
          },
          "metadata": {},
          "execution_count": 144
        },
        {
          "output_type": "display_data",
          "data": {
            "text/plain": [
              "<Figure size 432x288 with 1 Axes>"
            ],
            "image/png": "[encoded data removed]"
          },
          "metadata": {
            "needs_background": "light"
          }
        }
      ]
    },
    {
      "cell_type": "markdown",
      "metadata": {
        "id": "hJ6TijAg27oO"
      },
      "source": [
        "# Assignment7"
      ]
    },
    {
      "cell_type": "markdown",
      "metadata": {
        "id": "WOeIIVko27oO"
      },
      "source": [
        "## Salary Discrimination\n",
        "\n",
        "The file `salary.txt` contains data for 52 tenure-track professors at a small Midwestern college. This data was used in legal proceedings in the 1980s about discrimination against women in salary.\n",
        "\n",
        "The data in the file, by column:\n",
        "\n",
        "1. Sex. 1 for female, 0 for male.\n",
        "2. Rank. 1 for assistant professor, 2 for associate professor, 3 for full professor.\n",
        "3. Year. Number of years in current rank.\n",
        "4. Degree. Highest degree. 1 for doctorate, 0 for master's.\n",
        "5. YSdeg. Years since highest degree was earned.\n",
        "6. Salary. Salary/year in dollars.\n",
        "\n",
        "### Tasks\n",
        "\n",
        "1. Find the linear regression equation for this data using columns 1-5 to column 6.\n",
        "2. Find the selection of columns with the best $R^2$ score.\n",
        "3. Report whether sex is a factor in salary."
      ]
    },
    {
      "cell_type": "code",
      "source": [],
      "metadata": {
        "id": "KlBhoUZdwIF2"
      },
      "execution_count": null,
      "outputs": []
    },
    {
      "cell_type": "code",
      "execution_count": null,
      "metadata": {
        "id": "ZOOjQyG227oP",
        "colab": {
          "base_uri": "https://localhost:8080/",
          "height": 206
        },
        "outputId": "2f6066f1-4d74-42fc-af37-411a29e3c007"
      },
      "outputs": [
        {
          "output_type": "execute_result",
          "data": {
            "text/plain": [
              "   Sex  Rank  Year  Degree  YSdeg  Salary\n",
              "0    0     3    25       1     35   36350\n",
              "1    0     3    13       1     22   35350\n",
              "2    0     3    10       1     23   28200\n",
              "3    1     3     7       1     27   26775\n",
              "4    0     3    19       0     30   33696"
            ],
            "text/html": [
              "\n",
              "  <div id=\"df-a73434f2-1e26-4748-bf44-eb8ef88a0728\">\n",
              "    <div class=\"colab-df-container\">\n",
              "      <div>\n",
              "<style scoped>\n",
              "    .dataframe tbody tr th:only-of-type {\n",
              "        vertical-align: middle;\n",
              "    }\n",
              "\n",
              "    .dataframe tbody tr th {\n",
              "        vertical-align: top;\n",
              "    }\n",
              "\n",
              "    .dataframe thead th {\n",
              "        text-align: right;\n",
              "    }\n",
              "</style>\n",
              "<table border=\"1\" class=\"dataframe\">\n",
              "  <thead>\n",
              "    <tr style=\"text-align: right;\">\n",
              "      <th></th>\n",
              "      <th>Sex</th>\n",
              "      <th>Rank</th>\n",
              "      <th>Year</th>\n",
              "      <th>Degree</th>\n",
              "      <th>YSdeg</th>\n",
              "      <th>Salary</th>\n",
              "    </tr>\n",
              "  </thead>\n",
              "  <tbody>\n",
              "    <tr>\n",
              "      <th>0</th>\n",
              "      <td>0</td>\n",
              "      <td>3</td>\n",
              "      <td>25</td>\n",
              "      <td>1</td>\n",
              "      <td>35</td>\n",
              "      <td>36350</td>\n",
              "    </tr>\n",
              "    <tr>\n",
              "      <th>1</th>\n",
              "      <td>0</td>\n",
              "      <td>3</td>\n",
              "      <td>13</td>\n",
              "      <td>1</td>\n",
              "      <td>22</td>\n",
              "      <td>35350</td>\n",
              "    </tr>\n",
              "    <tr>\n",
              "      <th>2</th>\n",
              "      <td>0</td>\n",
              "      <td>3</td>\n",
              "      <td>10</td>\n",
              "      <td>1</td>\n",
              "      <td>23</td>\n",
              "      <td>28200</td>\n",
              "    </tr>\n",
              "    <tr>\n",
              "      <th>3</th>\n",
              "      <td>1</td>\n",
              "      <td>3</td>\n",
              "      <td>7</td>\n",
              "      <td>1</td>\n",
              "      <td>27</td>\n",
              "      <td>26775</td>\n",
              "    </tr>\n",
              "    <tr>\n",
              "      <th>4</th>\n",
              "      <td>0</td>\n",
              "      <td>3</td>\n",
              "      <td>19</td>\n",
              "      <td>0</td>\n",
              "      <td>30</td>\n",
              "      <td>33696</td>\n",
              "    </tr>\n",
              "  </tbody>\n",
              "</table>\n",
              "</div>\n",
              "      <button class=\"colab-df-convert\" onclick=\"convertToInteractive('df-a73434f2-1e26-4748-bf44-eb8ef88a0728')\"\n",
              "              title=\"Convert this dataframe to an interactive table.\"\n",
              "              style=\"display:none;\">\n",
              "        \n",
              "  <svg xmlns=\"http://www.w3.org/2000/svg\" height=\"24px\"viewBox=\"0 0 24 24\"\n",
              "       width=\"24px\">\n",
              "    <path d=\"M0 0h24v24H0V0z\" fill=\"none\"/>\n",
              "    <path d=\"M18.56 5.44l.94 2.06.94-2.06 2.06-.94-2.06-.94-.94-2.06-.94 2.06-2.06.94zm-11 1L8.5 8.5l.94-2.06 2.06-.94-2.06-.94L8.5 2.5l-.94 2.06-2.06.94zm10 10l.94 2.06.94-2.06 2.06-.94-2.06-.94-.94-2.06-.94 2.06-2.06.94z\"/><path d=\"M17.41 7.96l-1.37-1.37c-.4-.4-.92-.59-1.43-.59-.52 0-1.04.2-1.43.59L10.3 9.45l-7.72 7.72c-.78.78-.78 2.05 0 2.83L4 21.41c.39.39.9.59 1.41.59.51 0 1.02-.2 1.41-.59l7.78-7.78 2.81-2.81c.8-.78.8-2.07 0-2.86zM5.41 20L4 18.59l7.72-7.72 1.47 1.35L5.41 20z\"/>\n",
              "  </svg>\n",
              "      </button>\n",
              "      \n",
              "  <style>\n",
              "    .colab-df-container {\n",
              "      display:flex;\n",
              "      flex-wrap:wrap;\n",
              "      gap: 12px;\n",
              "    }\n",
              "\n",
              "    .colab-df-convert {\n",
              "      background-color: #E8F0FE;\n",
              "      border: none;\n",
              "      border-radius: 50%;\n",
              "      cursor: pointer;\n",
              "      display: none;\n",
              "      fill: #1967D2;\n",
              "      height: 32px;\n",
              "      padding: 0 0 0 0;\n",
              "      width: 32px;\n",
              "    }\n",
              "\n",
              "    .colab-df-convert:hover {\n",
              "      background-color: #E2EBFA;\n",
              "      box-shadow: 0px 1px 2px rgba(60, 64, 67, 0.3), 0px 1px 3px 1px rgba(60, 64, 67, 0.15);\n",
              "      fill: #174EA6;\n",
              "    }\n",
              "\n",
              "    [theme=dark] .colab-df-convert {\n",
              "      background-color: #3B4455;\n",
              "      fill: #D2E3FC;\n",
              "    }\n",
              "\n",
              "    [theme=dark] .colab-df-convert:hover {\n",
              "      background-color: #434B5C;\n",
              "      box-shadow: 0px 1px 3px 1px rgba(0, 0, 0, 0.15);\n",
              "      filter: drop-shadow(0px 1px 2px rgba(0, 0, 0, 0.3));\n",
              "      fill: #FFFFFF;\n",
              "    }\n",
              "  </style>\n",
              "\n",
              "      <script>\n",
              "        const buttonEl =\n",
              "          document.querySelector('#df-a73434f2-1e26-4748-bf44-eb8ef88a0728 button.colab-df-convert');\n",
              "        buttonEl.style.display =\n",
              "          google.colab.kernel.accessAllowed ? 'block' : 'none';\n",
              "\n",
              "        async function convertToInteractive(key) {\n",
              "          const element = document.querySelector('#df-a73434f2-1e26-4748-bf44-eb8ef88a0728');\n",
              "          const dataTable =\n",
              "            await google.colab.kernel.invokeFunction('convertToInteractive',\n",
              "                                                     [key], {});\n",
              "          if (!dataTable) return;\n",
              "\n",
              "          const docLinkHtml = 'Like what you see? Visit the ' +\n",
              "            '<a target=\"_blank\" href=https://colab.research.google.com/notebooks/data_table.ipynb>data table notebook</a>'\n",
              "            + ' to learn more about interactive tables.';\n",
              "          element.innerHTML = '';\n",
              "          dataTable['output_type'] = 'display_data';\n",
              "          await google.colab.output.renderOutput(dataTable, element);\n",
              "          const docLink = document.createElement('div');\n",
              "          docLink.innerHTML = docLinkHtml;\n",
              "          element.appendChild(docLink);\n",
              "        }\n",
              "      </script>\n",
              "    </div>\n",
              "  </div>\n",
              "  "
            ]
          },
          "metadata": {},
          "execution_count": 4
        }
      ],
      "source": [
        "df = pd.read_fwf(\"/content/drive/MyDrive/Guvi_collab/salary.txt\", header=None, \n",
        "                 names=[\"Sex\", \"Rank\", \"Year\", \"Degree\", \"YSdeg\", \"Salary\"])\n",
        "df.head(5)"
      ]
    },
    {
      "cell_type": "code",
      "source": [
        "sns.pairplot(df)"
      ],
      "metadata": {
        "colab": {
          "base_uri": "https://localhost:8080/",
          "height": 1000
        },
        "id": "FJQf54GrIho4",
        "outputId": "155c1e9f-a194-47ba-8632-1f22fdc3d094"
      },
      "execution_count": null,
      "outputs": [
        {
          "output_type": "execute_result",
          "data": {
            "text/plain": [
              "<seaborn.axisgrid.PairGrid at 0x7f10767a8640>"
            ]
          },
          "metadata": {},
          "execution_count": 5
        },
        {
          "output_type": "display_data",
          "data": {
            "text/plain": [
              "<Figure size 1080x1080 with 42 Axes>"
            ],
            "image/png": "[encoded data removed]"
          },
          "metadata": {
            "needs_background": "light"
          }
        }
      ]
    },
    {
      "cell_type": "code",
      "source": [
        "x=df.drop(['Salary'],axis=1)\n",
        "y=df['Salary']"
      ],
      "metadata": {
        "id": "h4AWH5sIHyYf"
      },
      "execution_count": null,
      "outputs": []
    },
    {
      "cell_type": "code",
      "source": [
        "x_train,x_test,y_train,y_test = train_test_split(x,y,test_size=0.30) #splitting data into 70-30\n"
      ],
      "metadata": {
        "id": "7KAVO5q1I7M3"
      },
      "execution_count": null,
      "outputs": []
    },
    {
      "cell_type": "code",
      "source": [
        "for i in range(0,1): #for loop to iterate the model\n",
        "  lr=LinearRegression()   #creating an instance \n",
        "  lr.fit(x_train,y_train)    #fitting a model to the dataset\n",
        "  predicted_values=lr.predict(x_test)   #using the model to predict values"
      ],
      "metadata": {
        "id": "kttGNFA-MyVf"
      },
      "execution_count": null,
      "outputs": []
    },
    {
      "cell_type": "code",
      "source": [
        "print('coefficient',lr.coef_)\n",
        "print('intercept',lr.intercept_)"
      ],
      "metadata": {
        "colab": {
          "base_uri": "https://localhost:8080/"
        },
        "id": "Wzm74vbBM6S-",
        "outputId": "96bd5bd2-f9cd-4c30-8e21-8d8e8a97e2f1"
      },
      "execution_count": null,
      "outputs": [
        {
          "output_type": "stream",
          "name": "stdout",
          "text": [
            "coefficient [1645.51557513 5622.94984605  529.67048034 -842.73284201 -139.764175  ]\n",
            "intercept 10872.074186000362\n"
          ]
        }
      ]
    },
    {
      "cell_type": "code",
      "source": [
        "ytrain_pred=lr.predict(x_train)\n",
        "ytest_pred=lr.predict(x_test)\n",
        "print('R2 score for train:',r2_score(y_train,ytrain_pred))\n",
        "print('R2 score for test:',r2_score(y_test,ytest_pred))"
      ],
      "metadata": {
        "colab": {
          "base_uri": "https://localhost:8080/"
        },
        "id": "XRJv_jfkNOKV",
        "outputId": "b273d17c-9737-4f83-d27c-03ef788c083d"
      },
      "execution_count": null,
      "outputs": [
        {
          "output_type": "stream",
          "name": "stdout",
          "text": [
            "R2 score for train: 0.8347290525253991\n",
            "R2 score for test: 0.881088399680265\n"
          ]
        }
      ]
    },
    {
      "cell_type": "code",
      "source": [
        "best_splitx=x_train\n",
        "best_splity=y_train\n",
        "best_testsplitx=x_test\n",
        "best_testsplity=y_test\n",
        "print(best_splitx)\n",
        "print(best_splity)\n",
        "print(best_testsplitx)\n",
        "print(best_testsplity)"
      ],
      "metadata": {
        "colab": {
          "base_uri": "https://localhost:8080/"
        },
        "id": "obebS5rTFEZh",
        "outputId": "66355ebc-8148-4681-bfbb-7d708be590c8"
      },
      "execution_count": null,
      "outputs": [
        {
          "output_type": "stream",
          "name": "stdout",
          "text": [
            "    Sex  Rank  Year  Degree  YSdeg\n",
            "38    0     1     4       1      5\n",
            "28    0     2     3       0      7\n",
            "39    0     1     4       1      4\n",
            "27    1     3     5       1     16\n",
            "40    0     1     3       1      4\n",
            "19    0     3     6       0     21\n",
            "26    0     2    11       1     14\n",
            "50    1     1     1       1      1\n",
            "12    0     3     9       1     17\n",
            "43    1     1     3       1      3\n",
            "13    0     2     9       0     27\n",
            "37    0     1     4       1      4\n",
            "16    0     3    13       1     20\n",
            "18    0     2    10       0     15\n",
            "2     0     3    10       1     23\n",
            "42    0     2     0       1      7\n",
            "8     0     3    13       0     30\n",
            "10    0     3    12       1     22\n",
            "29    0     2     3       0     17\n",
            "48    0     1     1       1      1\n",
            "44    0     1     2       1      3\n",
            "30    1     1    10       0     15\n",
            "1     0     3    13       1     22\n",
            "4     0     3    19       0     30\n",
            "24    0     2     9       1     12\n",
            "46    1     1     2       1      6\n",
            "21    0     2     8       0     31\n",
            "6     1     3     0       0     32\n",
            "31    0     2    11       0     31\n",
            "22    0     3     7       1     13\n",
            "23    1     3     8       1     24\n",
            "34    1     2     6       0     29\n",
            "51    1     1     0       1      2\n",
            "3     1     3     7       1     27\n",
            "36    1     1     8       1     14\n",
            "25    0     3     5       1     18\n",
            "38    16700\n",
            "28    26182\n",
            "39    17600\n",
            "27    25500\n",
            "40    18075\n",
            "19    24450\n",
            "26    24800\n",
            "50    15000\n",
            "12    28200\n",
            "43    17250\n",
            "13    23712\n",
            "37    17095\n",
            "16    31114\n",
            "18    22906\n",
            "2     28200\n",
            "42    20999\n",
            "8     31850\n",
            "10    27025\n",
            "29    23725\n",
            "48    16244\n",
            "44    16500\n",
            "30    21600\n",
            "1     35350\n",
            "4     33696\n",
            "24    24832\n",
            "46    16150\n",
            "21    20525\n",
            "6     24900\n",
            "31    23300\n",
            "22    27959\n",
            "23    38045\n",
            "34    22450\n",
            "51    20300\n",
            "3     26775\n",
            "36    18304\n",
            "25    25400\n",
            "Name: Salary, dtype: int64\n",
            "    Sex  Rank  Year  Degree  YSdeg\n",
            "33    1     2     4       0     33\n",
            "49    1     1     1       1      1\n",
            "11    0     2    15       1     19\n",
            "14    0     3     9       1     24\n",
            "45    0     1     2       1      1\n",
            "47    1     1     2       1      2\n",
            "17    0     2    11       0     14\n",
            "5     0     3    16       1     21\n",
            "32    0     1     9       0     14\n",
            "41    0     1     3       0     11\n",
            "7     0     3    16       1     18\n",
            "35    0     2     1       1      9\n",
            "15    0     3     7       1     15\n",
            "9     0     3    13       0     31\n",
            "0     0     3    25       1     35\n",
            "20    0     1    16       0     23\n",
            "33    20690\n",
            "49    16686\n",
            "11    24750\n",
            "14    25748\n",
            "45    16094\n",
            "47    15350\n",
            "17    24742\n",
            "5     28516\n",
            "32    23713\n",
            "41    18000\n",
            "7     31909\n",
            "35    20850\n",
            "15    29342\n",
            "9     32850\n",
            "0     36350\n",
            "20    19175\n",
            "Name: Salary, dtype: int64\n"
          ]
        }
      ]
    },
    {
      "cell_type": "markdown",
      "source": [
        "We can see that when considering all the columns as indeoendant variable and fitting the model, we are getting an r2 score above 0.84. "
      ],
      "metadata": {
        "id": "qbF6AnoXE1__"
      }
    },
    {
      "cell_type": "code",
      "source": [
        "# below we'll fit the data by excluding the 'Sex' column to find whether it plays major role in the prediction of "
      ],
      "metadata": {
        "id": "xaBxEjL4Dyfe"
      },
      "execution_count": null,
      "outputs": []
    },
    {
      "cell_type": "code",
      "source": [
        "#We are splitting with the same dataset which yields higher r2 score for the previous\n",
        "\n",
        "x1_train=best_splitx.drop(['Sex'],axis=1)\n",
        "y1_train=best_splity\n",
        "x1_test=best_testsplitx.drop(['Sex'],axis=1)\n",
        "y1_test=best_testsplity"
      ],
      "metadata": {
        "id": "YoPJ7teDM6PB"
      },
      "execution_count": null,
      "outputs": []
    },
    {
      "cell_type": "code",
      "source": [
        "r2score_tst=[]\n",
        "r2score_train=[]\n",
        "for i in range(0,5):\n",
        "  lr=LinearRegression()\n",
        "  lr.fit(x1_train,y1_train)  \n",
        "  y1train_pred=lr.predict(x1_train)\n",
        "  y1test_pred=lr.predict(x1_test)\n",
        "  r2score_tst.append(r2_score(y1test_pred,y1_test))\n",
        "  r2score_train.append(r2_score(y1train_pred,y1_train))\n",
        "\n",
        "r2test_avg=sum(r2score_tst)/len( r2score_tst)\n",
        "r2train_avg=sum(r2score_train)/len( r2score_train)\n",
        "print(\"Test r2 avg score without considering gender:\",r2test_avg)\n",
        "print(\"Train r2 avg score without considering gender:\",r2train_avg)"
      ],
      "metadata": {
        "colab": {
          "base_uri": "https://localhost:8080/"
        },
        "id": "i1C11BvbFWt5",
        "outputId": "68c8e2c9-3630-4204-8f33-adad25332b31"
      },
      "execution_count": null,
      "outputs": [
        {
          "output_type": "stream",
          "name": "stdout",
          "text": [
            "Test r2 avg score without considering gender: 0.8863446367688221\n",
            "Train r2 avg score without considering gender: 0.7826914664140121\n"
          ]
        }
      ]
    },
    {
      "cell_type": "code",
      "source": [
        "#to further rest our case we'll plot a correlation plot between 2 variables.\n",
        "sns.scatterplot(data=df,x='Sex',y='Salary')"
      ],
      "metadata": {
        "colab": {
          "base_uri": "https://localhost:8080/",
          "height": 296
        },
        "id": "HuwI3XRvLIA0",
        "outputId": "4d4321f1-3877-4b15-a0b5-33dfe7ae1e47"
      },
      "execution_count": null,
      "outputs": [
        {
          "output_type": "execute_result",
          "data": {
            "text/plain": [
              "<matplotlib.axes._subplots.AxesSubplot at 0x7f1060958a90>"
            ]
          },
          "metadata": {},
          "execution_count": 30
        },
        {
          "output_type": "display_data",
          "data": {
            "text/plain": [
              "<Figure size 432x288 with 1 Axes>"
            ],
            "image/png": "[encoded data removed]"
          },
          "metadata": {
            "needs_background": "light"
          }
        }
      ]
    },
    {
      "cell_type": "markdown",
      "source": [
        "**conclusion** : As we can observe from the graph as well as the model we fitted with the same split without 'Sex' variable clearly indicates there wasn't any significance effect to the 'Salary' variable. The Average R2 score for 5 iterations without 'Sex' variable is nearly equal as previous model when including the 'Sex' variable. "
      ],
      "metadata": {
        "id": "CfdzQOL5Muvz"
      }
    }
  ],
  "metadata": {
    "kernelspec": {
      "display_name": "Python 3",
      "language": "python",
      "name": "python3"
    },
    "language_info": {
      "codemirror_mode": {
        "name": "ipython",
        "version": 3
      },
      "file_extension": ".py",
      "mimetype": "text/x-python",
      "name": "python",
      "nbconvert_exporter": "python",
      "pygments_lexer": "ipython3",
      "version": "3.8.3"
    },
    "colab": {
      "provenance": []
    }
  },
  "nbformat": 4,
  "nbformat_minor": 0
}