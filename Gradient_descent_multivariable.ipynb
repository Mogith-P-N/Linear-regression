{
  "nbformat": 4,
  "nbformat_minor": 0,
  "metadata": {
    "colab": {
      "provenance": []
    },
    "kernelspec": {
      "name": "python3",
      "display_name": "Python 3"
    },
    "language_info": {
      "name": "python"
    }
  },
  "cells": [
    {
      "cell_type": "markdown",
      "source": [
        "Boston Housing Dataset\n",
        "Predicting Median value of owner-occupied homes\n",
        "The aim of this assignment is to learn the application of machine learning algorithms to data sets. This involves learning what data means, how to handle data, training, cross validation, prediction, testing your model, etc.\n",
        "This dataset contains information collected by the U.S Census Service concerning housing in the area of Boston Mass. It was obtained from the StatLib archive, and has been used extensively throughout the literature to benchmark algorithms. The data was originally published by Harrison, D. and Rubinfeld, D.L. Hedonic prices and the demand for clean air', J. Environ. Economics & Management, vol.5, 81-102, 1978.\n",
        "The dataset is small in size with only 506 cases. It can be used to predict the median value of a home, which is done here. There are 14 attributes in each case of the dataset. "
      ],
      "metadata": {
        "id": "dJiZ9GAcMMxi"
      }
    },
    {
      "cell_type": "code",
      "source": [
        "from google.colab import drive\n",
        "drive.mount('/content/drive')"
      ],
      "metadata": {
        "colab": {
          "base_uri": "https://localhost:8080/"
        },
        "id": "3mhCqc_jMWSK",
        "outputId": "4e14b694-193f-43a3-af1f-c7e0ae61b169"
      },
      "execution_count": 1,
      "outputs": [
        {
          "output_type": "stream",
          "name": "stdout",
          "text": [
            "Mounted at /content/drive\n"
          ]
        }
      ]
    },
    {
      "cell_type": "code",
      "execution_count": 37,
      "metadata": {
        "id": "ZEnOGYeR44H3"
      },
      "outputs": [],
      "source": [
        "import pandas as pd \n",
        "import numpy as np\n",
        "import matplotlib.pyplot as plt\n",
        "from numpy import genfromtxt\n",
        "from sklearn.preprocessing import MinMaxScaler"
      ]
    },
    {
      "cell_type": "code",
      "source": [
        "#importing datasets\n",
        "phi=pd.read_csv('/content/drive/MyDrive/Guvi_collab/train.csv')\n",
        "phi_test=pd.read_csv('/content/drive/MyDrive/Guvi_collab/test.csv')"
      ],
      "metadata": {
        "id": "SsK1CrAz5AXy"
      },
      "execution_count": 38,
      "outputs": []
    },
    {
      "cell_type": "code",
      "source": [
        "#assigning x and y values\n",
        "x=phi.iloc[:,1:14]  #dropping index column and assigning rest of the variables as x\n",
        "y=phi.iloc[:,14:]\n",
        "x_test=phi_test.iloc[:,1:14]"
      ],
      "metadata": {
        "id": "9JYrZrFuTFow"
      },
      "execution_count": 39,
      "outputs": []
    },
    {
      "cell_type": "markdown",
      "source": [
        "Pre-processing and scaling data "
      ],
      "metadata": {
        "id": "7FugUwTEQs6N"
      }
    },
    {
      "cell_type": "code",
      "source": [
        "#scaling x variables using minmax scaler with default range 0-1\n",
        "scaler=MinMaxScaler()\n",
        "x=scaler.fit_transform(x)\n",
        "x_test=scaler.fit_transform(x_test)\n",
        "print((x[0]))\n",
        "print(x_test[0])"
      ],
      "metadata": {
        "colab": {
          "base_uri": "https://localhost:8080/"
        },
        "id": "NFhJAiRmQyIp",
        "outputId": "45bb0d14-6b8f-4a0d-f35f-66bbd3028b7d"
      },
      "execution_count": 40,
      "outputs": [
        {
          "output_type": "stream",
          "name": "stdout",
          "text": [
            "[0.01064112 0.         0.28152493 0.         0.31481481 0.41124515\n",
            " 0.88465499 0.30224882 0.13043478 0.22900763 0.89361702 0.77174845\n",
            " 0.4260749 ]\n",
            "[0.00202307 0.3        0.13663891 0.         0.07515658 0.58012821\n",
            " 0.62553648 0.63652632 0.2173913  0.21414914 0.46511628 0.99420216\n",
            " 0.30269504]\n"
          ]
        }
      ]
    },
    {
      "cell_type": "code",
      "source": [
        "#scaling the y variable by log \n",
        "y=y.to_numpy()\n",
        "y=np.log(y)"
      ],
      "metadata": {
        "id": "nSMd93Y2Pbpy"
      },
      "execution_count": 41,
      "outputs": []
    },
    {
      "cell_type": "code",
      "source": [
        "x[4] "
      ],
      "metadata": {
        "colab": {
          "base_uri": "https://localhost:8080/"
        },
        "id": "SJpmPW5SrhGJ",
        "outputId": "1e6fa6c5-8a13-48ee-a1d5-db7e3930c978"
      },
      "execution_count": 42,
      "outputs": [
        {
          "output_type": "execute_result",
          "data": {
            "text/plain": [
              "array([4.08915022e-04, 0.00000000e+00, 1.01906158e-01, 0.00000000e+00,\n",
              "       1.54320988e-01, 4.32141318e-01, 3.01750772e-01, 4.31394302e-01,\n",
              "       1.30434783e-01, 4.63740458e-01, 4.57446809e-01, 9.28564224e-01,\n",
              "       1.98890430e-01])"
            ]
          },
          "metadata": {},
          "execution_count": 42
        }
      ]
    },
    {
      "cell_type": "code",
      "source": [
        "#ValueError: setting an array element with a sequence - getting this error for this function -- need to check\n",
        "\n",
        "\"\"\"\"def gradient_descentLR(x,y,learning_rate,iter):\n",
        "  m=x.shape[0] #no of samples\n",
        "  x=np.c_[np.ones(x.shape[0]),x] #concatenating new column for theta0 \n",
        "  n=x.shape[1] # no of features \n",
        "  theta=np.ones(n)  #initializing array of ones as initial parameter of theta.\n",
        "  h=np.dot(x,theta) #so this is our predicted y^ using a initial parameter theta * x\n",
        "  error=h-y         # error is predicted(h)-actual(y) \n",
        "  cost=np.ones(iter) #initializing a matrix of ones as cost, later in loop we'll update the values in each index.\n",
        "  \n",
        "  for i in range(0,iter):   #for iterating over no of times\n",
        "    theta[0] = theta[0] - (learning_rate /x.shape[0]) * sum(error)\n",
        "    for j in range(1,n):    #iterating through each feature\n",
        "      theta[j]=theta[j]-(learning_rate/x.shape[0])*np.dot(np.transpose(x),error)  \n",
        "    h=np.dot(x,theta)\n",
        "    error=h-y\n",
        "    cost[i]=(1/(2*m))*np.dot(np.transpose(error),error)\n",
        "  return cost,theta\"\"\"\""
      ],
      "metadata": {
        "id": "6v0F1dR4jQ8k"
      },
      "execution_count": 115,
      "outputs": []
    },
    {
      "cell_type": "markdown",
      "source": [
        "Initializing parameters and variables needed to compute cost and gradient function."
      ],
      "metadata": {
        "id": "CciwsSFD_SCe"
      }
    },
    {
      "cell_type": "code",
      "source": [
        "  m=x.shape[0] #no of samples\n",
        "  x=np.c_[np.ones(x.shape[0]),x] #concatenating new column for theta0 \n",
        "  n=x.shape[1] # no of features \n",
        "  theta=np.ones(n)  #initializing array of ones as initial parameter of theta.\n",
        "  y_new = np.reshape(y, (len(y)))  #reshaping in order to match h.shape which is (400,)"
      ],
      "metadata": {
        "id": "QwKOhvaXtY8X"
      },
      "execution_count": 43,
      "outputs": []
    },
    {
      "cell_type": "markdown",
      "source": [
        "\"***python numpy ValueError: operands could not be broadcast together with shapes***\" - to tackle this error i have reshaped the y into y_new.\n",
        "because without reshaping the shape of h (400,) is not equal to shape of y (400,1) so it throws the above error. reshaping h is not possible while on loop so i have reshaped the y into y_new compatible to h"
      ],
      "metadata": {
        "id": "At7tPVz4AU18"
      }
    },
    {
      "cell_type": "code",
      "source": [
        "y_new.shape==h.shape"
      ],
      "metadata": {
        "colab": {
          "base_uri": "https://localhost:8080/"
        },
        "id": "oD_L8ibo9Bev",
        "outputId": "a15799c1-3e6c-4b25-c224-948ef14fec36"
      },
      "execution_count": 210,
      "outputs": [
        {
          "output_type": "execute_result",
          "data": {
            "text/plain": [
              "True"
            ]
          },
          "metadata": {},
          "execution_count": 210
        }
      ]
    },
    {
      "cell_type": "markdown",
      "source": [
        "Gradient descent function "
      ],
      "metadata": {
        "id": "IOMrmk8DBVos"
      }
    },
    {
      "cell_type": "code",
      "source": [
        "def gradient_descentLR(x,y,theta,learning_rate,iter):\n",
        "  cost_lst = []   #to record all cost values to this list\n",
        "  theta_lst = []  #to record all theta_0 and theta_1 values to this list \n",
        "  predictedY_lst = []\n",
        "  cost_lst.append(10)   #initializing with random number ex=1 \n",
        "  \n",
        "  for i in range(0,iter):\n",
        "    h=x.dot(theta)  #so this is our predicted y^ using a initial parameter theta * x\n",
        "    predictedY_lst.append(h)\n",
        "    error=h-y_new #error is predicted(h)-actual(y)\n",
        "    cost=(1/(2*m))*np.dot(np.transpose(error),error)\n",
        "    cost_lst.append(cost)\n",
        "    theta=theta-(learning_rate * (1/m) * np.dot(np.transpose(x),(error)))\n",
        "    theta_lst.append(theta)\n",
        "  return cost_lst,predictedY_lst,theta_lst"
      ],
      "metadata": {
        "id": "puQGQQAzwMsr"
      },
      "execution_count": 44,
      "outputs": []
    },
    {
      "cell_type": "code",
      "source": [
        "cost_lst,predictedY_lst,theta_lst=gradient_descentLR(x,y,theta,0.52,150)"
      ],
      "metadata": {
        "id": "gTSjSzlGyezo"
      },
      "execution_count": 62,
      "outputs": []
    },
    {
      "cell_type": "code",
      "source": [
        "cost_lst[-10:]"
      ],
      "metadata": {
        "colab": {
          "base_uri": "https://localhost:8080/"
        },
        "id": "iV34lgtV9hDH",
        "outputId": "15e11753-b5ec-4523-f5f2-373f296ccf7a"
      },
      "execution_count": 63,
      "outputs": [
        {
          "output_type": "execute_result",
          "data": {
            "text/plain": [
              "[0.0365776930935714,\n",
              " 0.03646211709662591,\n",
              " 0.03634774459465294,\n",
              " 0.036234551597293614,\n",
              " 0.036122514790045794,\n",
              " 0.0360116115121585,\n",
              " 0.035901819735325885,\n",
              " 0.03579311804314825,\n",
              " 0.03568548561132855,\n",
              " 0.035578902188575276]"
            ]
          },
          "metadata": {},
          "execution_count": 63
        }
      ]
    },
    {
      "cell_type": "code",
      "source": [
        "theta_lst[-1]"
      ],
      "metadata": {
        "colab": {
          "base_uri": "https://localhost:8080/"
        },
        "id": "YVf7pjih-_Q4",
        "outputId": "1233862b-0df4-4867-a51d-531c92efac36"
      },
      "execution_count": 64,
      "outputs": [
        {
          "output_type": "execute_result",
          "data": {
            "text/plain": [
              "array([ 1.58866184,  0.18457297,  0.08464386,  0.22835619,  0.15262759,\n",
              "        0.21693549,  1.53062793,  0.12131762,  0.53878577, -0.0471673 ,\n",
              "       -0.26692246,  0.00605826,  0.61657503, -0.3888131 ])"
            ]
          },
          "metadata": {},
          "execution_count": 64
        }
      ]
    },
    {
      "cell_type": "code",
      "source": [
        "plt.title('Cost Function', size = 30)\n",
        "plt.xlabel('No. of iterations', size=20)\n",
        "plt.ylabel('Cost', size=20)\n",
        "plt.plot(cost_lst)\n",
        "plt.show()"
      ],
      "metadata": {
        "colab": {
          "base_uri": "https://localhost:8080/",
          "height": 317
        },
        "id": "w1dGCqHoLQ4U",
        "outputId": "5fd6abec-4a43-4b97-a647-e93f287469c7"
      },
      "execution_count": 65,
      "outputs": [
        {
          "output_type": "display_data",
          "data": {
            "text/plain": [
              "<Figure size 432x288 with 1 Axes>"
            ],
            "image/png": "[encoded data removed]"
          },
          "metadata": {
            "needs_background": "light"
          }
        }
      ]
    },
    {
      "cell_type": "markdown",
      "source": [
        "Generating function to calculate gradient descent with L1 norm and L2 norm. With various lambda values."
      ],
      "metadata": {
        "id": "fE0-vYxbTu-L"
      }
    },
    {
      "cell_type": "code",
      "source": [
        "  m=x.shape[0] #no of samples\n",
        "  x=np.c_[np.ones(x.shape[0]),x] #concatenating new column for theta0 \n",
        "  n=x.shape[1] # no of features \n",
        "  theta=np.ones(n)  #initializing array of ones as initial parameter of theta.\n",
        "  y_new = np.reshape(y, (len(y)))"
      ],
      "metadata": {
        "id": "6td1n_2MWRhz"
      },
      "execution_count": 24,
      "outputs": []
    },
    {
      "cell_type": "code",
      "source": [
        "def gradient_descent_regularisation(x,y,theta,learning_rate,iter,lambda_val,norm):\n",
        "  cost_lst = []   #to record all cost values to this list\n",
        "  theta_lst = []  #to record all theta_0 and theta_1 values to this list \n",
        "  predictedY_lst = []\n",
        "  cost_lst.append(10)   #initializing with random number ex=1 \n",
        "  \n",
        "  for i in range(0,iter):\n",
        "    h=x.dot(theta)  #so this is our predicted y^ using a initial parameter theta * x\n",
        "    predictedY_lst.append(h)\n",
        "    error=h-y_new #error is predicted(h)-actual(y)\n",
        "    \n",
        "    if norm=='l':\n",
        "      lasso=(lambda_val / 2 * m) * np.sum(theta)  #lasso or l1 norm is product of lambda and absolute value of theta(h)\n",
        "      cost=(1/(2*m))*np.dot(np.transpose(error),error)+lasso #adding lasso into cost function\n",
        "      cost_lst.append(cost)\n",
        "      theta=theta-(learning_rate * ((1/m) * np.dot(np.transpose(x),error))+lasso)\n",
        "      theta_lst.append(theta)\n",
        "\n",
        "    \n",
        "  return cost_lst,predictedY_lst,theta_lst"
      ],
      "metadata": {
        "id": "VkBY6KZjUAg7"
      },
      "execution_count": 29,
      "outputs": []
    },
    {
      "cell_type": "code",
      "source": [
        "cost_lst,predictedY_lst,theta_lst=gradient_descent_regularisation(x,y,theta,0.5,100,1,'l')"
      ],
      "metadata": {
        "colab": {
          "base_uri": "https://localhost:8080/"
        },
        "id": "8jzpBVlycVAy",
        "outputId": "ceedd389-1688-4334-d7de-ce32748cb62e"
      },
      "execution_count": 33,
      "outputs": [
        {
          "output_type": "stream",
          "name": "stderr",
          "text": [
            "<ipython-input-29-60b4c842f393>:13: RuntimeWarning: overflow encountered in double_scalars\n",
            "  lasso=(lambda_val / 2 * m) * np.sum(theta)\n"
          ]
        }
      ]
    },
    {
      "cell_type": "code",
      "source": [
        "cost_lst[-10:]"
      ],
      "metadata": {
        "colab": {
          "base_uri": "https://localhost:8080/"
        },
        "id": "wJPVHWSHdF0O",
        "outputId": "2f60d4f9-62a7-436d-8b51-11b2578a9b46"
      },
      "execution_count": 36,
      "outputs": [
        {
          "output_type": "execute_result",
          "data": {
            "text/plain": [
              "[nan, nan, nan, nan, nan, nan, nan, nan, nan, nan]"
            ]
          },
          "metadata": {},
          "execution_count": 36
        }
      ]
    }
  ]
}